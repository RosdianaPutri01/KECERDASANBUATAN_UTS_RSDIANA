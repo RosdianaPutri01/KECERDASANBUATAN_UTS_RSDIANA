{
  "nbformat": 4,
  "nbformat_minor": 0,
  "metadata": {
    "colab": {
      "provenance": [],
      "authorship_tag": "ABX9TyMqsIL3ZRpwJG5n5BOIjcrP",
      "include_colab_link": true
    },
    "kernelspec": {
      "name": "python3",
      "display_name": "Python 3"
    },
    "language_info": {
      "name": "python"
    }
  },
  "cells": [
    {
      "cell_type": "markdown",
      "metadata": {
        "id": "view-in-github",
        "colab_type": "text"
      },
      "source": [
        "<a href=\"https://colab.research.google.com/github/RosdianaPutri01/KECERDASANBUATAN_UTS_RSDIANA/blob/main/HAMAsistempakar.ipynb\" target=\"_parent\"><img src=\"https://colab.research.google.com/assets/colab-badge.svg\" alt=\"Open In Colab\"/></a>"
      ]
    },
    {
      "cell_type": "code",
      "execution_count": 3,
      "metadata": {
        "colab": {
          "base_uri": "https://localhost:8080/"
        },
        "id": "1wDoO5THyqVL",
        "outputId": "2803b559-f844-4f3b-ef41-9bbd262e5676"
      },
      "outputs": [
        {
          "output_type": "stream",
          "name": "stdout",
          "text": [
            "- Daun menguning terdeteksi.\n",
            "- Bercak hitam terdeteksi.\n",
            "- Daun berlubang tidak terdeteksi.\n",
            "- Tanaman layu tidak terdeteksi.\n",
            "\n",
            "[ Hasil Diagnosis ]\n",
            "- Diagnosis: Hama Jamur Daun\n",
            "- Saran Penanganan: Lakukan penyemprotan fungisida secara berkala dan jaga kelembaban tanaman.\n"
          ]
        }
      ],
      "source": [
        "def identifikasi_hama(gejala):\n",
        "    hasil_pemeriksaan = []\n",
        "\n",
        "    if \"daun menguning\" in gejala:\n",
        "        hasil_pemeriksaan.append(\"- Daun menguning terdeteksi.\")\n",
        "    else:\n",
        "        hasil_pemeriksaan.append(\"- Daun menguning tidak terdeteksi.\")\n",
        "\n",
        "    if \"bercak hitam\" in gejala:\n",
        "        hasil_pemeriksaan.append(\"- Bercak hitam terdeteksi.\")\n",
        "    else:\n",
        "        hasil_pemeriksaan.append(\"- Bercak hitam tidak terdeteksi.\")\n",
        "\n",
        "    if \"daun berlubang\" in gejala:\n",
        "        hasil_pemeriksaan.append(\"- Daun berlubang terdeteksi.\")\n",
        "    else:\n",
        "        hasil_pemeriksaan.append(\"- Daun berlubang tidak terdeteksi.\")\n",
        "\n",
        "    if \"tanaman layu\" in gejala:\n",
        "        hasil_pemeriksaan.append(\"- Tanaman layu terdeteksi.\")\n",
        "    else:\n",
        "        hasil_pemeriksaan.append(\"- Tanaman layu tidak terdeteksi.\")\n",
        "\n",
        "    diagnosis = \"\"\n",
        "    saran = \"\"\n",
        "\n",
        "    if \"daun menguning\" in gejala and \"bercak hitam\" in gejala:\n",
        "        diagnosis = \"Hama Jamur Daun\"\n",
        "        saran = \"Lakukan penyemprotan fungisida secara berkala dan jaga kelembaban tanaman.\"\n",
        "    elif \"daun berlubang\" in gejala and \"tanaman layu\" in gejala:\n",
        "        diagnosis = \"Serangan Ulat\"\n",
        "        saran = \"Gunakan insektisida alami dan periksa daun tanaman secara rutin.\"\n",
        "    elif \"daun menguning\" in gejala and \"tanaman layu\" in gejala:\n",
        "        diagnosis = \"Infeksi Virus\"\n",
        "        saran = \"Segera cabut tanaman yang terinfeksi dan lakukan rotasi tanaman.\"\n",
        "    elif \"bercak hitam\" in gejala and \"daun berlubang\" in gejala:\n",
        "        diagnosis = \"Infeksi Bakteri\"\n",
        "        saran = \"Gunakan bakterisida dan hindari penyiraman berlebihan.\"\n",
        "    else:\n",
        "        diagnosis = \"Tidak dapat menentukan jenis hama berdasarkan gejala yang diberikan.\"\n",
        "        saran = \"Perlu observasi lebih lanjut atau konsultasi dengan ahli tanaman.\"\n",
        "\n",
        "    output = \"\\n\".join(hasil_pemeriksaan)\n",
        "    output += f\"\\n\\n[ Hasil Diagnosis ]\\n- Diagnosis: {diagnosis}\\n- Saran Penanganan: {saran}\"\n",
        "\n",
        "    return output\n",
        "\n",
        "\n",
        "gejala_input = [\"daun menguning\", \"bercak hitam\"]\n",
        "hasil = identifikasi_hama(gejala_input)\n",
        "print(hasil)\n"
      ]
    }
  ]
}