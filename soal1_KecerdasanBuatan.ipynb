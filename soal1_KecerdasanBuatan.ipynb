{
  "nbformat": 4,
  "nbformat_minor": 0,
  "metadata": {
    "colab": {
      "provenance": [],
      "authorship_tag": "ABX9TyOms/n6Zvo9Md+dwqjE8u/2",
      "include_colab_link": true
    },
    "kernelspec": {
      "name": "python3",
      "display_name": "Python 3"
    },
    "language_info": {
      "name": "python"
    }
  },
  "cells": [
    {
      "cell_type": "markdown",
      "metadata": {
        "id": "view-in-github",
        "colab_type": "text"
      },
      "source": [
        "<a href=\"https://colab.research.google.com/github/RosdianaPutri01/KECERDASANBUATAN_UTS_RSDIANA/blob/main/soal1_KecerdasanBuatan.ipynb\" target=\"_parent\"><img src=\"https://colab.research.google.com/assets/colab-badge.svg\" alt=\"Open In Colab\"/></a>"
      ]
    },
    {
      "cell_type": "code",
      "execution_count": 4,
      "metadata": {
        "colab": {
          "base_uri": "https://localhost:8080/"
        },
        "id": "1wDoO5THyqVL",
        "outputId": "500cc2a3-bd97-497f-e334-8170b36a68aa"
      },
      "outputs": [
        {
          "output_type": "stream",
          "name": "stdout",
          "text": [
            "Silakan jawab dengan 'ya' atau 'tidak':\n",
            "\n",
            "Apakah daun menguning? (ya/tidak): ya\n",
            "Apakah terdapat bercak hitam? (ya/tidak): tidak\n",
            "Apakah daun berlubang? (ya/tidak): ya\n",
            "Apakah tanaman layu? (ya/tidak): ya\n",
            "\n",
            "- Daun menguning terdeteksi.\n",
            "- Bercak hitam tidak terdeteksi.\n",
            "- Daun berlubang terdeteksi.\n",
            "- Tanaman layu terdeteksi.\n",
            "\n",
            "[ Hasil Diagnosis ]\n",
            "- Diagnosis: Serangan Ulat\n",
            "- Saran Penanganan: Gunakan insektisida alami dan periksa daun tanaman secara rutin.\n"
          ]
        }
      ],
      "source": [
        "def identifikasi_hama(gejala):\n",
        "    hasil_pemeriksaan = []\n",
        "\n",
        "    if \"daun menguning\" in gejala:\n",
        "        hasil_pemeriksaan.append(\"- Daun menguning terdeteksi.\")\n",
        "    else:\n",
        "        hasil_pemeriksaan.append(\"- Daun menguning tidak terdeteksi.\")\n",
        "\n",
        "    if \"bercak hitam\" in gejala:\n",
        "        hasil_pemeriksaan.append(\"- Bercak hitam terdeteksi.\")\n",
        "    else:\n",
        "        hasil_pemeriksaan.append(\"- Bercak hitam tidak terdeteksi.\")\n",
        "\n",
        "    if \"daun berlubang\" in gejala:\n",
        "        hasil_pemeriksaan.append(\"- Daun berlubang terdeteksi.\")\n",
        "    else:\n",
        "        hasil_pemeriksaan.append(\"- Daun berlubang tidak terdeteksi.\")\n",
        "\n",
        "    if \"tanaman layu\" in gejala:\n",
        "        hasil_pemeriksaan.append(\"- Tanaman layu terdeteksi.\")\n",
        "    else:\n",
        "        hasil_pemeriksaan.append(\"- Tanaman layu tidak terdeteksi.\")\n",
        "\n",
        "    diagnosis = \"\"\n",
        "    saran = \"\"\n",
        "\n",
        "    if \"daun menguning\" in gejala and \"bercak hitam\" in gejala:\n",
        "        diagnosis = \"Hama Jamur Daun\"\n",
        "        saran = \"Lakukan penyemprotan fungisida secara berkala dan jaga kelembaban tanaman.\"\n",
        "    elif \"daun berlubang\" in gejala and \"tanaman layu\" in gejala:\n",
        "        diagnosis = \"Serangan Ulat\"\n",
        "        saran = \"Gunakan insektisida alami dan periksa daun tanaman secara rutin.\"\n",
        "    elif \"daun menguning\" in gejala and \"tanaman layu\" in gejala:\n",
        "        diagnosis = \"Infeksi Virus\"\n",
        "        saran = \"Segera cabut tanaman yang terinfeksi dan lakukan rotasi tanaman.\"\n",
        "    elif \"bercak hitam\" in gejala and \"daun berlubang\" in gejala:\n",
        "        diagnosis = \"Infeksi Bakteri\"\n",
        "        saran = \"Gunakan bakterisida dan hindari penyiraman berlebihan.\"\n",
        "\n",
        "    output = \"\\n\".join(hasil_pemeriksaan)\n",
        "\n",
        "    if diagnosis:\n",
        "        output += f\"\\n\\n[ Hasil Diagnosis ]\\n- Diagnosis: {diagnosis}\\n- Saran Penanganan: {saran}\"\n",
        "\n",
        "    return output\n",
        "\n",
        "# Pengisian interaktif\n",
        "gejala_input = []\n",
        "\n",
        "print(\"Silakan jawab dengan 'ya' atau 'tidak':\\n\")\n",
        "\n",
        "jawaban = input(\"Apakah daun menguning? (ya/tidak): \").lower()\n",
        "if jawaban == \"ya\":\n",
        "    gejala_input.append(\"daun menguning\")\n",
        "\n",
        "jawaban = input(\"Apakah terdapat bercak hitam? (ya/tidak): \").lower()\n",
        "if jawaban == \"ya\":\n",
        "    gejala_input.append(\"bercak hitam\")\n",
        "\n",
        "jawaban = input(\"Apakah daun berlubang? (ya/tidak): \").lower()\n",
        "if jawaban == \"ya\":\n",
        "    gejala_input.append(\"daun berlubang\")\n",
        "\n",
        "jawaban = input(\"Apakah tanaman layu? (ya/tidak): \").lower()\n",
        "if jawaban == \"ya\":\n",
        "    gejala_input.append(\"tanaman layu\")\n",
        "\n",
        "# Menjalankan diagnosa\n",
        "hasil = identifikasi_hama(gejala_input)\n",
        "print(\"\\n\" + hasil)\n"
      ]
    }
  ]
}