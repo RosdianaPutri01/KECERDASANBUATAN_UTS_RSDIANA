{
  "nbformat": 4,
  "nbformat_minor": 0,
  "metadata": {
    "colab": {
      "provenance": [],
      "authorship_tag": "ABX9TyNW3sTPR0LE8c7hidChSihB",
      "include_colab_link": true
    },
    "kernelspec": {
      "name": "python3",
      "display_name": "Python 3"
    },
    "language_info": {
      "name": "python"
    }
  },
  "cells": [
    {
      "cell_type": "markdown",
      "metadata": {
        "id": "view-in-github",
        "colab_type": "text"
      },
      "source": [
        "<a href=\"https://colab.research.google.com/github/RosdianaPutri01/KECERDASANBUATAN_UTS_RSDIANA/blob/main/soal1_KecerdasanBuatan.ipynb\" target=\"_parent\"><img src=\"https://colab.research.google.com/assets/colab-badge.svg\" alt=\"Open In Colab\"/></a>"
      ]
    },
    {
      "cell_type": "code",
      "execution_count": 6,
      "metadata": {
        "colab": {
          "base_uri": "https://localhost:8080/"
        },
        "id": "1wDoO5THyqVL",
        "outputId": "a68d4a89-eaf8-4b0d-e188-37d6585e91b5"
      },
      "outputs": [
        {
          "output_type": "stream",
          "name": "stdout",
          "text": [
            "Silakan jawab dengan 'ya' atau 'tidak':\n",
            "\n",
            "Apakah daun menguning? (ya/tidak): ya\n",
            "Apakah terdapat bercak hitam? (ya/tidak): ya\n",
            "Apakah daun berlubang? (ya/tidak): tidak\n",
            "Apakah tanaman layu? (ya/tidak): ya\n",
            "\n",
            "- Daun menguning terdeteksi.\n",
            "- Bercak hitam terdeteksi.\n",
            "- Daun berlubang tidak terdeteksi.\n",
            "- Tanaman layu terdeteksi.\n",
            "\n",
            "[ Hasil Diagnosis ]\n",
            "- Diagnosis: Hama Jamur Daun\n",
            "- Saran Penanganan: Semprotkan fungisida dan jaga kelembaban tanaman.\n"
          ]
        }
      ],
      "source": [
        "def identifikasi_hama(gejala):\n",
        "    hasil_pemeriksaan = []\n",
        "\n",
        "    if \"daun menguning\" in gejala:\n",
        "        hasil_pemeriksaan.append(\"- Daun menguning terdeteksi.\")\n",
        "    else:\n",
        "        hasil_pemeriksaan.append(\"- Daun menguning tidak terdeteksi.\")\n",
        "\n",
        "    if \"bercak hitam\" in gejala:\n",
        "        hasil_pemeriksaan.append(\"- Bercak hitam terdeteksi.\")\n",
        "    else:\n",
        "        hasil_pemeriksaan.append(\"- Bercak hitam tidak terdeteksi.\")\n",
        "\n",
        "    if \"daun berlubang\" in gejala:\n",
        "        hasil_pemeriksaan.append(\"- Daun berlubang terdeteksi.\")\n",
        "    else:\n",
        "        hasil_pemeriksaan.append(\"- Daun berlubang tidak terdeteksi.\")\n",
        "\n",
        "    if \"tanaman layu\" in gejala:\n",
        "        hasil_pemeriksaan.append(\"- Tanaman layu terdeteksi.\")\n",
        "    else:\n",
        "        hasil_pemeriksaan.append(\"- Tanaman layu tidak terdeteksi.\")\n",
        "\n",
        "    diagnosis = \"\"\n",
        "    saran = \"\"\n",
        "\n",
        "    if \"daun menguning\" in gejala and \"bercak hitam\" in gejala:\n",
        "        diagnosis = \"Hama Jamur Daun\"\n",
        "        saran = \"Semprotkan fungisida dan jaga kelembaban tanaman.\"\n",
        "    elif \"daun berlubang\" in gejala and \"tanaman layu\" in gejala:\n",
        "        diagnosis = \"Serangan Ulat\"\n",
        "        saran = \"Gunakan insektisida alami dan rutin periksa daun.\"\n",
        "    elif \"daun menguning\" in gejala and \"tanaman layu\" in gejala:\n",
        "        diagnosis = \"Infeksi Virus\"\n",
        "        saran = \"Cabut tanaman yang terinfeksi dan lakukan rotasi tanaman.\"\n",
        "    elif \"bercak hitam\" in gejala and \"daun berlubang\" in gejala:\n",
        "        diagnosis = \"Infeksi Bakteri\"\n",
        "        saran = \"Gunakan bakterisida dan hindari penyiraman berlebihan.\"\n",
        "    else:\n",
        "        diagnosis = \"Tidak ditemukan diagnosis yang sesuai.\"\n",
        "        saran = \"Periksa lebih lanjut atau konsultasikan dengan ahli.\"\n",
        "\n",
        "    output = \"\\n\".join(hasil_pemeriksaan)\n",
        "    output += f\"\\n\\n[ Hasil Diagnosis ]\\n- Diagnosis: {diagnosis}\\n- Saran Penanganan: {saran}\"\n",
        "\n",
        "    return output\n",
        "\n",
        "gejala_input = []\n",
        "\n",
        "print(\"Silakan jawab dengan 'ya' atau 'tidak':\\n\")\n",
        "\n",
        "jawaban = input(\"Apakah daun menguning? (ya/tidak): \").lower()\n",
        "if jawaban == \"ya\":\n",
        "    gejala_input.append(\"daun menguning\")\n",
        "\n",
        "jawaban = input(\"Apakah terdapat bercak hitam? (ya/tidak): \").lower()\n",
        "if jawaban == \"ya\":\n",
        "    gejala_input.append(\"bercak hitam\")\n",
        "\n",
        "jawaban = input(\"Apakah daun berlubang? (ya/tidak): \").lower()\n",
        "if jawaban == \"ya\":\n",
        "    gejala_input.append(\"daun berlubang\")\n",
        "\n",
        "jawaban = input(\"Apakah tanaman layu? (ya/tidak): \").lower()\n",
        "if jawaban == \"ya\":\n",
        "    gejala_input.append(\"tanaman layu\")\n",
        "\n",
        "hasil = identifikasi_hama(gejala_input)\n",
        "print(\"\\n\" + hasil)\n"
      ]
    }
  ]
}